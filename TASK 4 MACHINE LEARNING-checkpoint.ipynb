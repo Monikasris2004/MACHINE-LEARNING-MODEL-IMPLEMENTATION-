{
 "cells": [
  {
   "cell_type": "code",
   "execution_count": 1,
   "id": "076ec53a-7207-414e-a7b2-94d2a07d4059",
   "metadata": {},
   "outputs": [
    {
     "name": "stdout",
     "output_type": "stream",
     "text": [
      "Dataset loaded successfully.\n",
      "Columns in the dataset: Index(['num_links', 'num_words', 'has_offer', 'sender_score', 'all_caps',\n",
      "       'is_spam'],\n",
      "      dtype='object')\n",
      "First few rows of the dataset:\n",
      "    num_links  num_words  has_offer  sender_score  all_caps  is_spam\n",
      "0          3         98          1      0.718607         0        0\n",
      "1          0        170          0      0.698901         1        0\n",
      "2          0         38          0      0.620466         0        0\n",
      "3          0        116          0      0.701755         0        0\n",
      "4          3         89          1      0.583621         1        1\n",
      "Data after handling missing values: (20000, 6)\n",
      "Features shape: (20000, 5)\n",
      "Labels shape: (20000,)\n",
      "Training and Testing sets created successfully.\n"
     ]
    }
   ],
   "source": [
    "import pandas as pd\n",
    "from sklearn.model_selection import train_test_split\n",
    "\n",
    "# Step 1: Load the dataset\n",
    "data = pd.read_csv(r'C:\\Users\\dgowt\\Downloads\\spam_detection_dataset.csv')  # Use raw string for file path\n",
    "\n",
    "# Step 2: Display dataset structure (already known)\n",
    "print(\"Dataset loaded successfully.\")\n",
    "print(\"Columns in the dataset:\", data.columns)\n",
    "print(\"First few rows of the dataset:\\n\", data.head())\n",
    "\n",
    "# Step 3: Handle Missing Data\n",
    "data = data.dropna()  # Remove rows with missing values\n",
    "print(\"Data after handling missing values:\", data.shape)\n",
    "\n",
    "# Step 4: Define features (X) and labels (y)\n",
    "X = data[['num_links', 'num_words', 'has_offer', 'sender_score', 'all_caps']]  # Features\n",
    "y = data['is_spam']  # Labels\n",
    "\n",
    "# Step 5: Reset indices\n",
    "X = X.reset_index(drop=True)\n",
    "y = y.reset_index(drop=True)\n",
    "print(\"Features shape:\", X.shape)\n",
    "print(\"Labels shape:\", y.shape)\n",
    "\n",
    "# Step 6: Split the data into training and testing sets\n",
    "X_train, X_test, y_train, y_test = train_test_split(X, y, test_size=0.2, random_state=42)\n",
    "print(\"Training and Testing sets created successfully.\")\n"
   ]
  },
  {
   "cell_type": "code",
   "execution_count": null,
   "id": "56112c85-eb3d-488b-a1b9-066918737e83",
   "metadata": {},
   "outputs": [],
   "source": []
  }
 ],
 "metadata": {
  "kernelspec": {
   "display_name": "Python 3 (ipykernel)",
   "language": "python",
   "name": "python3"
  },
  "language_info": {
   "codemirror_mode": {
    "name": "ipython",
    "version": 3
   },
   "file_extension": ".py",
   "mimetype": "text/x-python",
   "name": "python",
   "nbconvert_exporter": "python",
   "pygments_lexer": "ipython3",
   "version": "3.12.7"
  }
 },
 "nbformat": 4,
 "nbformat_minor": 5
}
